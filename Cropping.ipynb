{
 "cells": [
  {
   "attachments": {},
   "cell_type": "markdown",
   "id": "9789b172-cb41-4d8d-a7b7-ccb921e2aa1a",
   "metadata": {
    "tags": []
   },
   "source": [
    "#### Cropping to the firescar size"
   ]
  },
  {
   "cell_type": "markdown",
   "id": "58f064d8-1934-4ba0-94a8-67844efadb9d",
   "metadata": {},
   "source": [
    "##### Libraries"
   ]
  },
  {
   "cell_type": "code",
   "execution_count": null,
   "id": "937c9512-0764-416c-915c-8faaf75f503b",
   "metadata": {},
   "outputs": [],
   "source": [
    "import os, csv, geopandas as gpd, rasterio as rio, rioxarray as rxr\n",
    "from osgeo import gdal \n",
    "from pathlib import Path"
   ]
  },
  {
   "attachments": {},
   "cell_type": "markdown",
   "id": "22e7e99e-50b4-4447-a041-c6e036dc945e",
   "metadata": {},
   "source": [
    "##### cropping"
   ]
  },
  {
   "cell_type": "code",
   "execution_count": null,
   "id": "ce40d48b-3dbc-49e9-a7bd-3c7b1917d73b",
   "metadata": {},
   "outputs": [],
   "source": [
    "def to_shp(filename: str, destin_folder: str):\n",
    "    '''\n",
    "    transforms the raster to shp to enable the posterior cropping\n",
    "    '''\n",
    "    filename: firescar raster path   \n",
    "    destin_folder: new shapefile path \n",
    "    inDs=gdal.Open(filename)\n",
    "    outDs = gdal.Translate('{}.xyz'.format(destin_folder+\"/\"+Path(filename).stem), inDs, format='XYZ', creationOptions=[\"ADD_HEADER_LINE=YES\"])\n",
    "    outDs = None \n",
    "    try:\n",
    "        os.remove('{}.csv'.format(destin_folder+\"/\"+Path(filename).stem))\n",
    "    except OSError:\n",
    "        pass\n",
    "    os.rename('{}.xyz'.format(destin_folder+\"/\"+Path(filename).stem), '{}.csv'.format(destin_folder+\"/\"+Path(filename).stem))\n",
    "    return os.system('ogr2ogr -f \"ESRI Shapefile\" -oo X_POSSIBLE_NAMES=X* -oo Y_POSSIBLE_NAMES=Y* -oo KEEP_GEOM_COLUMNS=NO {0}_2.shp {0}.csv'.format(destin_folder+\"/\"+Path(filename).stem))    "
   ]
  },
  {
   "cell_type": "code",
   "execution_count": null,
   "id": "302202be-83a9-43f2-ba1f-34eb5493ebe2",
   "metadata": {},
   "outputs": [],
   "source": [
    "def cropping(filename: str, destin_folder: str, ipname: str, out_path: str): \n",
    "    '''\n",
    "    Clips the satellite raster to the firescar size using the firescar binary raster for the georeference\n",
    "    filename: firescar raster path   \n",
    "    destin_folder: new shapefile path \n",
    "    ipname: image pre/post raster filename path\n",
    "    out_path: output path destination\n",
    "    '''\n",
    "    to_shp(filename,destin_folder)\n",
    "    fire_boundary_path = destin_folder+\"/\"+Path(filename).stem+\"_2.shp\"\n",
    "    ippath=os.path.join(ipname) #ip name of raster file\n",
    "    fire_boundary = gpd.read_file(fire_boundary_path)\n",
    "    #Check crs\n",
    "    ip_crs=rxr.open_rasterio(ipname).rio.crs\n",
    "    fire_boundary.crs=ip_crs\n",
    "    #cropping\n",
    "    ip=rxr.open_rasterio(ippath, masked=False).squeeze()\n",
    "    clip = rxr.open_rasterio(ippath).rio.clip(\n",
    "        fire_boundary.geometry,\n",
    "        from_disk=True).squeeze()\n",
    "    #Export\n",
    "    clip.rio.to_raster(out_path+Path(ipname).stem+\"_clip.tif\", compress='LZMA', dtype=\"float64\")"
   ]
  },
  {
   "attachments": {},
   "cell_type": "markdown",
   "id": "7cdda7a1-9440-43e3-9807-d92c51c44c6f",
   "metadata": {
    "tags": []
   },
   "source": [
    "#### cropping to 128x128"
   ]
  },
  {
   "cell_type": "markdown",
   "id": "de6bf0a5-5043-4964-8295-1c2f8753c2f7",
   "metadata": {},
   "source": [
    "##### Libraries"
   ]
  },
  {
   "cell_type": "code",
   "execution_count": null,
   "id": "51f0783b-5f72-4444-9f64-fc39e040ed93",
   "metadata": {},
   "outputs": [],
   "source": [
    "import os, csv, geopandas as gpd, rasterio as rio, rioxarray as rxr, pandas as pd, numpy as np\n",
    "from osgeo import gdal \n",
    "from pathlib import Path\n",
    "from geopandas import GeoDataFrame\n",
    "from shapely.geometry import Point"
   ]
  },
  {
   "attachments": {},
   "cell_type": "markdown",
   "id": "d08fa17f-28ba-487c-a951-bc86ea6974e3",
   "metadata": {},
   "source": [
    "##### cropping"
   ]
  },
  {
   "cell_type": "code",
   "execution_count": null,
   "id": "c8f87fa1-b6d8-4029-9d59-e615289fcebb",
   "metadata": {},
   "outputs": [],
   "source": [
    "def cropping128(filename: str, ipname: str, destin_folder: str, output: str, size: int): \n",
    "    '''\n",
    "    This function clips the satellite image raster to the desired size using another raster containing only the binary firescar \n",
    "    for the georeference. It uses only firescar rasters inferior to size in at least one of the two axis.\n",
    "    \n",
    "    filename: Path of the firescar raster, containing the geospatial information required for the cropping\n",
    "    ipname: stands File name of the raster desired to clip to the size dimensions, in this case 128. \n",
    "    destin_folder: is the destination path for the csv file created with the filename geospatial information\n",
    "    output: is the path for the clipped raster\n",
    "    size: number of pixel to crop the image on its both axis to\n",
    "    '''\n",
    "    file_=rxr.open_rasterio(filename)\n",
    "    if (len(file_.y)<size or len(file_.x)<size):\n",
    "        inDs=gdal.Open(filename)           \n",
    "        ulx, xres, xskew, uly, yskew, yres  = inDs.GetGeoTransform()\n",
    "        df=pd.read_csv(destin_folder+\"/\"+Path(filename).stem+\".csv\")\n",
    "        df2=pd.DataFrame(columns=[\"X\",\"Y\"])\n",
    "        idx=0\n",
    "        for i in df.values:\n",
    "            df2.loc[idx, \"X\"]=float(i[0].split(' ')[0])\n",
    "            df2.loc[idx, \"Y\"]=float(i[0].split(' ')[1])\n",
    "            idx+=1\n",
    "        # print(f\"initial size: {len(df2.X.unique()), len(df2.Y.unique())}\")\n",
    "        if ((len(df2.X.unique())<size) or (len(df2.Y.unique())<size)):\n",
    "            if (len(df2.X.unique())<size and len(df2.Y.unique())>=size):\n",
    "                newX=np.linspace(df2.X.min()-((size-(len(df2.X.unique())))/2)*xres,df2.X.max()+((size-(len(df2.X.unique())))/2)*xres,size)\n",
    "                newY=np.linspace(df2.Y.min()+(((len(df2.Y.unique())-size))/2)*-yres,df2.Y.max()-(((len(df2.Y.unique())-size))/2)*-yres,size)\n",
    "            elif (len(df2.Y.unique())<size and len(df2.X.unique())>=size):\n",
    "                newY=np.linspace(df2.Y.min()-((size-(len(df2.Y.unique())))/2)*-yres,df2.Y.max()+((size-(len(df2.Y.unique())))/2)*-yres,size)\n",
    "                newX=np.linspace(df2.X.min()+(((len(df2.X.unique())-size))/2)*xres,df2.X.max()-(((len(df2.X.unique())-size))/2)*xres,size)\n",
    "            elif (len(df2.Y.unique())<size and len(df2.X.unique())<size):\n",
    "                newX=np.linspace(df2.X.min()-((size-(len(df2.X.unique())))/2)*xres,df2.X.max()+((size-(len(df2.X.unique())))/2)*xres,size)\n",
    "                newY=np.linspace(df2.Y.min()-((size-(len(df2.Y.unique())))/2)*-yres,df2.Y.max()+((size-(len(df2.Y.unique())))/2)*-yres,size)\n",
    "        # print(f\"new size x,y:{len(newX),len(newY)}\")\n",
    "        xx, yy = np.meshgrid(newX.tolist(), newY.tolist())\n",
    "        newX = np.array(xx.flatten(\"C\"))\n",
    "        newY = np.array(yy.flatten(\"C\"))\n",
    "        df_r=pd.DataFrame(columns=[\"X\", \"Y\"])\n",
    "        df_r[\"X\"]=newX\n",
    "        df_r[\"Y\"]=newY\n",
    "        geometry = [Point(xy) for xy in zip(df_r.X, df_r.Y)]\n",
    "        df_f = df_r.drop(['X', 'Y'], axis=1)\n",
    "        gdf = GeoDataFrame(df_f, crs=\"EPSG:4326\", geometry=geometry)\n",
    "        #cropping\n",
    "        ippath=os.path.join(ipname) #name of the raster file \n",
    "        fire_boundary= gdf  \n",
    "        ip=rxr.open_rasterio(ippath, masked=True).squeeze()\n",
    "        clip = rxr.open_rasterio(ippath).rio.clip(\n",
    "        fire_boundary.geometry,\n",
    "        from_disk=True).squeeze()\n",
    "        print(f\"size clip: {len(clip.x), len(clip.y)}\")\n",
    "        if (len(clip.x)==128 and len(clip.y)==128):\n",
    "            #export \n",
    "            clip.rio.to_raster(output+\"/\"+Path(ipname).stem+\"_clip.tif\")\n",
    "        #for issues with the cropping when pixels weren't in the exact border. It clips 1/2 aditional pixel down or left to obtain the right clip.\n",
    "        elif (len(clip.x)==127 or len(clip.y)==127):\n",
    "            if (len(clip.x)==127 and len(clip.y)==127):\n",
    "                newX=np.linspace(df2.X.min()-((size-(len(df2.X.unique())))/2)*xres-xres*1/4,df2.X.max()+((size-(len(df2.X.unique())))/2)*xres-xres*1/4,size)\n",
    "                newY=np.linspace(df2.Y.min()-((size-(len(df2.Y.unique())))/2)*-yres-(-yres*1/4),df2.Y.max()+((size-(len(df2.Y.unique())))/2)*-yres-(-yres*1/4),size)\n",
    "            elif (len(clip.x)==127 and len(clip.y)==128):\n",
    "                newX=np.linspace(df2.X.min()-((size-(len(df2.X.unique())))/2)*xres-xres*1/4,df2.X.max()+((size-(len(df2.X.unique())))/2)*xres-xres*1/4,size)\n",
    "                newY=np.linspace(df2.Y.min()+(((len(df2.Y.unique())-size))/2)*-yres,df2.Y.max()-(((len(df2.Y.unique())-size))/2)*-yres,size)\n",
    "            elif (len(clip.y)==127 and len(clip.x)==128):\n",
    "                newY=np.linspace(df2.Y.min()-((size-(len(df2.Y.unique())))/2)*-yres-(-yres*1/4),df2.Y.max()+((size-(len(df2.Y.unique())))/2)*-yres-(-yres*1/4),size)\n",
    "                newX=np.linspace(df2.X.min()-((size-(len(df2.X.unique())))/2)*xres,df2.X.max()+((size-(len(df2.X.unique())))/2)*xres,size)\n",
    "            # print(f\"new size x,y:{len(newX),len(newY)}\")\n",
    "            xx, yy = np.meshgrid(newX.tolist(), newY.tolist())\n",
    "            newX = np.array(xx.flatten(\"C\"))\n",
    "            newY = np.array(yy.flatten(\"C\"))\n",
    "            df_r=pd.DataFrame(columns=[\"X\", \"Y\"])\n",
    "            df_r[\"X\"]=newX\n",
    "            df_r[\"Y\"]=newY\n",
    "            geometry = [Point(xy) for xy in zip(df_r.X, df_r.Y)]\n",
    "            df_f = df_r.drop(['X', 'Y'], axis=1)\n",
    "            gdf = GeoDataFrame(df_f, crs=\"EPSG:4326\", geometry=geometry)\n",
    "            ippath=os.path.join(ipname) #ip name of the raster file\n",
    "            fire_boundary= gdf  \n",
    "            # cropping\n",
    "            ip=rxr.open_rasterio(ippath, masked=True).squeeze()\n",
    "            clip = rxr.open_rasterio(ippath).rio.clip(\n",
    "            fire_boundary.geometry,\n",
    "            from_disk=True).squeeze()\n",
    "            # print(f\"size clip_fixed: {len(clip.x), len(clip.y)}\")\n",
    "            #Export\n",
    "            if (len(clip.x)==128 and len(clip.y)==128):\n",
    "                clip.rio.to_raster(output+\"/\"+Path(ipname).stem+\"_clip.tif\")"
   ]
  }
 ],
 "metadata": {
  "kernelspec": {
   "display_name": "Python 3 (ipykernel)",
   "language": "python",
   "name": "python3"
  },
  "language_info": {
   "codemirror_mode": {
    "name": "ipython",
    "version": 3
   },
   "file_extension": ".py",
   "mimetype": "text/x-python",
   "name": "python",
   "nbconvert_exporter": "python",
   "pygments_lexer": "ipython3",
   "version": "3.7.10"
  }
 },
 "nbformat": 4,
 "nbformat_minor": 5
}
